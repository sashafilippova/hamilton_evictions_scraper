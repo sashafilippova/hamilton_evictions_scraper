{
 "cells": [
  {
   "cell_type": "markdown",
   "metadata": {},
   "source": [
    "# Eviction Court Cases WEB SCRAPER\n",
    " "
   ]
  },
  {
   "cell_type": "markdown",
   "metadata": {},
   "source": [
    "## Step 0: import all python packages needed for the web scraper"
   ]
  },
  {
   "cell_type": "code",
   "execution_count": 258,
   "metadata": {},
   "outputs": [],
   "source": [
    "# import python packages for web scraping\n",
    "from selenium import webdriver\n",
    "from selenium.webdriver.common.keys import Keys\n",
    "from selenium.webdriver.support.ui import Select    # for drop-down menus\n",
    "from selenium.webdriver.support.ui import WebDriverWait\n",
    "from bs4 import BeautifulSoup\n",
    "\n",
    "import time\n",
    "import pandas as pd"
   ]
  },
  {
   "cell_type": "code",
   "execution_count": 259,
   "metadata": {},
   "outputs": [
    {
     "name": "stderr",
     "output_type": "stream",
     "text": [
      "/var/folders/dk/pln7xlc14nzbppm5dwwxnl1h0000gn/T/ipykernel_6912/3016052759.py:2: DeprecationWarning: executable_path has been deprecated, please pass in a Service object\n",
      "  driver = webdriver.Chrome(\"/Users/oleksandrafilippova/Downloads/chromedriver\")\n"
     ]
    }
   ],
   "source": [
    "# Initialize a Chrome webdriver\n",
    "driver = webdriver.Chrome(\"/Users/oleksandrafilippova/Downloads/chromedriver\")\n",
    "\n",
    "# Navigate to the court cases page\n",
    "driver.get(\"https://www.courtclerk.org/records-search/municipal-civil-listing-by-classification/\")"
   ]
  },
  {
   "cell_type": "markdown",
   "metadata": {},
   "source": [
    "## Step 1: Enter a classification code (G-code for evictions)"
   ]
  },
  {
   "cell_type": "code",
   "execution_count": 260,
   "metadata": {},
   "outputs": [
    {
     "ename": "NoSuchWindowException",
     "evalue": "Message: no such window: window was already closed\n  (Session info: chrome=103.0.5060.114)\nStacktrace:\n0   chromedriver                        0x0000000104f50079 chromedriver + 4444281\n1   chromedriver                        0x0000000104edc403 chromedriver + 3970051\n2   chromedriver                        0x0000000104b77038 chromedriver + 409656\n3   chromedriver                        0x0000000104b67599 chromedriver + 345497\n4   chromedriver                        0x0000000104b689b2 chromedriver + 350642\n5   chromedriver                        0x0000000104b6132c chromedriver + 320300\n6   chromedriver                        0x0000000104b78452 chromedriver + 414802\n7   chromedriver                        0x0000000104bdc8db chromedriver + 825563\n8   chromedriver                        0x0000000104bca683 chromedriver + 751235\n9   chromedriver                        0x0000000104ba0a45 chromedriver + 580165\n10  chromedriver                        0x0000000104ba1a95 chromedriver + 584341\n11  chromedriver                        0x0000000104f2155d chromedriver + 4253021\n12  chromedriver                        0x0000000104f263a1 chromedriver + 4273057\n13  chromedriver                        0x0000000104f2b16f chromedriver + 4292975\n14  chromedriver                        0x0000000104f26dea chromedriver + 4275690\n15  chromedriver                        0x0000000104f0054f chromedriver + 4117839\n16  chromedriver                        0x0000000104f40ed8 chromedriver + 4382424\n17  chromedriver                        0x0000000104f4105f chromedriver + 4382815\n18  chromedriver                        0x0000000104f578d5 chromedriver + 4475093\n19  libsystem_pthread.dylib             0x00007fff204168fc _pthread_start + 224\n20  libsystem_pthread.dylib             0x00007fff20412443 thread_start + 15\n",
     "output_type": "error",
     "traceback": [
      "\u001b[0;31m---------------------------------------------------------------------------\u001b[0m",
      "\u001b[0;31mNoSuchWindowException\u001b[0m                     Traceback (most recent call last)",
      "Input \u001b[0;32mIn [260]\u001b[0m, in \u001b[0;36m<module>\u001b[0;34m\u001b[0m\n\u001b[0;32m----> 1\u001b[0m dropdown \u001b[38;5;241m=\u001b[39m Select(\u001b[43mdriver\u001b[49m\u001b[38;5;241;43m.\u001b[39;49m\u001b[43mfind_element\u001b[49m\u001b[43m(\u001b[49m\u001b[38;5;124;43m\"\u001b[39;49m\u001b[38;5;124;43mxpath\u001b[39;49m\u001b[38;5;124;43m\"\u001b[39;49m\u001b[43m,\u001b[49m\u001b[43m \u001b[49m\u001b[38;5;124;43m\"\u001b[39;49m\u001b[38;5;124;43m/html/body/div[1]/div/div[2]/form/select\u001b[39;49m\u001b[38;5;124;43m\"\u001b[39;49m\u001b[43m)\u001b[49m)\n\u001b[1;32m      2\u001b[0m dropdown\u001b[38;5;241m.\u001b[39mselect_by_value(\u001b[38;5;124m\"\u001b[39m\u001b[38;5;124mG\u001b[39m\u001b[38;5;124m\"\u001b[39m)\n",
      "File \u001b[0;32m/Library/Frameworks/Python.framework/Versions/3.10/lib/python3.10/site-packages/selenium/webdriver/remote/webdriver.py:857\u001b[0m, in \u001b[0;36mWebDriver.find_element\u001b[0;34m(self, by, value)\u001b[0m\n\u001b[1;32m    854\u001b[0m     by \u001b[38;5;241m=\u001b[39m By\u001b[38;5;241m.\u001b[39mCSS_SELECTOR\n\u001b[1;32m    855\u001b[0m     value \u001b[38;5;241m=\u001b[39m \u001b[38;5;124m'\u001b[39m\u001b[38;5;124m[name=\u001b[39m\u001b[38;5;124m\"\u001b[39m\u001b[38;5;132;01m%s\u001b[39;00m\u001b[38;5;124m\"\u001b[39m\u001b[38;5;124m]\u001b[39m\u001b[38;5;124m'\u001b[39m \u001b[38;5;241m%\u001b[39m value\n\u001b[0;32m--> 857\u001b[0m \u001b[38;5;28;01mreturn\u001b[39;00m \u001b[38;5;28;43mself\u001b[39;49m\u001b[38;5;241;43m.\u001b[39;49m\u001b[43mexecute\u001b[49m\u001b[43m(\u001b[49m\u001b[43mCommand\u001b[49m\u001b[38;5;241;43m.\u001b[39;49m\u001b[43mFIND_ELEMENT\u001b[49m\u001b[43m,\u001b[49m\u001b[43m \u001b[49m\u001b[43m{\u001b[49m\n\u001b[1;32m    858\u001b[0m \u001b[43m    \u001b[49m\u001b[38;5;124;43m'\u001b[39;49m\u001b[38;5;124;43musing\u001b[39;49m\u001b[38;5;124;43m'\u001b[39;49m\u001b[43m:\u001b[49m\u001b[43m \u001b[49m\u001b[43mby\u001b[49m\u001b[43m,\u001b[49m\n\u001b[1;32m    859\u001b[0m \u001b[43m    \u001b[49m\u001b[38;5;124;43m'\u001b[39;49m\u001b[38;5;124;43mvalue\u001b[39;49m\u001b[38;5;124;43m'\u001b[39;49m\u001b[43m:\u001b[49m\u001b[43m \u001b[49m\u001b[43mvalue\u001b[49m\u001b[43m}\u001b[49m\u001b[43m)\u001b[49m[\u001b[38;5;124m'\u001b[39m\u001b[38;5;124mvalue\u001b[39m\u001b[38;5;124m'\u001b[39m]\n",
      "File \u001b[0;32m/Library/Frameworks/Python.framework/Versions/3.10/lib/python3.10/site-packages/selenium/webdriver/remote/webdriver.py:435\u001b[0m, in \u001b[0;36mWebDriver.execute\u001b[0;34m(self, driver_command, params)\u001b[0m\n\u001b[1;32m    433\u001b[0m response \u001b[38;5;241m=\u001b[39m \u001b[38;5;28mself\u001b[39m\u001b[38;5;241m.\u001b[39mcommand_executor\u001b[38;5;241m.\u001b[39mexecute(driver_command, params)\n\u001b[1;32m    434\u001b[0m \u001b[38;5;28;01mif\u001b[39;00m response:\n\u001b[0;32m--> 435\u001b[0m     \u001b[38;5;28;43mself\u001b[39;49m\u001b[38;5;241;43m.\u001b[39;49m\u001b[43merror_handler\u001b[49m\u001b[38;5;241;43m.\u001b[39;49m\u001b[43mcheck_response\u001b[49m\u001b[43m(\u001b[49m\u001b[43mresponse\u001b[49m\u001b[43m)\u001b[49m\n\u001b[1;32m    436\u001b[0m     response[\u001b[38;5;124m'\u001b[39m\u001b[38;5;124mvalue\u001b[39m\u001b[38;5;124m'\u001b[39m] \u001b[38;5;241m=\u001b[39m \u001b[38;5;28mself\u001b[39m\u001b[38;5;241m.\u001b[39m_unwrap_value(\n\u001b[1;32m    437\u001b[0m         response\u001b[38;5;241m.\u001b[39mget(\u001b[38;5;124m'\u001b[39m\u001b[38;5;124mvalue\u001b[39m\u001b[38;5;124m'\u001b[39m, \u001b[38;5;28;01mNone\u001b[39;00m))\n\u001b[1;32m    438\u001b[0m     \u001b[38;5;28;01mreturn\u001b[39;00m response\n",
      "File \u001b[0;32m/Library/Frameworks/Python.framework/Versions/3.10/lib/python3.10/site-packages/selenium/webdriver/remote/errorhandler.py:247\u001b[0m, in \u001b[0;36mErrorHandler.check_response\u001b[0;34m(self, response)\u001b[0m\n\u001b[1;32m    245\u001b[0m         alert_text \u001b[38;5;241m=\u001b[39m value[\u001b[38;5;124m'\u001b[39m\u001b[38;5;124malert\u001b[39m\u001b[38;5;124m'\u001b[39m]\u001b[38;5;241m.\u001b[39mget(\u001b[38;5;124m'\u001b[39m\u001b[38;5;124mtext\u001b[39m\u001b[38;5;124m'\u001b[39m)\n\u001b[1;32m    246\u001b[0m     \u001b[38;5;28;01mraise\u001b[39;00m exception_class(message, screen, stacktrace, alert_text)  \u001b[38;5;66;03m# type: ignore[call-arg]  # mypy is not smart enough here\u001b[39;00m\n\u001b[0;32m--> 247\u001b[0m \u001b[38;5;28;01mraise\u001b[39;00m exception_class(message, screen, stacktrace)\n",
      "\u001b[0;31mNoSuchWindowException\u001b[0m: Message: no such window: window was already closed\n  (Session info: chrome=103.0.5060.114)\nStacktrace:\n0   chromedriver                        0x0000000104f50079 chromedriver + 4444281\n1   chromedriver                        0x0000000104edc403 chromedriver + 3970051\n2   chromedriver                        0x0000000104b77038 chromedriver + 409656\n3   chromedriver                        0x0000000104b67599 chromedriver + 345497\n4   chromedriver                        0x0000000104b689b2 chromedriver + 350642\n5   chromedriver                        0x0000000104b6132c chromedriver + 320300\n6   chromedriver                        0x0000000104b78452 chromedriver + 414802\n7   chromedriver                        0x0000000104bdc8db chromedriver + 825563\n8   chromedriver                        0x0000000104bca683 chromedriver + 751235\n9   chromedriver                        0x0000000104ba0a45 chromedriver + 580165\n10  chromedriver                        0x0000000104ba1a95 chromedriver + 584341\n11  chromedriver                        0x0000000104f2155d chromedriver + 4253021\n12  chromedriver                        0x0000000104f263a1 chromedriver + 4273057\n13  chromedriver                        0x0000000104f2b16f chromedriver + 4292975\n14  chromedriver                        0x0000000104f26dea chromedriver + 4275690\n15  chromedriver                        0x0000000104f0054f chromedriver + 4117839\n16  chromedriver                        0x0000000104f40ed8 chromedriver + 4382424\n17  chromedriver                        0x0000000104f4105f chromedriver + 4382815\n18  chromedriver                        0x0000000104f578d5 chromedriver + 4475093\n19  libsystem_pthread.dylib             0x00007fff204168fc _pthread_start + 224\n20  libsystem_pthread.dylib             0x00007fff20412443 thread_start + 15\n"
     ]
    }
   ],
   "source": [
    "dropdown = Select(driver.find_element(\"xpath\", \"/html/body/div[1]/div/div[2]/form/select\"))\n",
    "dropdown.select_by_value(\"G\")"
   ]
  },
  {
   "cell_type": "markdown",
   "metadata": {},
   "source": [
    "## Step 2: Select a Date Range of 7 days or less.\n",
    "*The website does not allow entering a period of time exceeding 1 week*"
   ]
  },
  {
   "cell_type": "code",
   "execution_count": null,
   "metadata": {},
   "outputs": [],
   "source": [
    "beg_date = driver.find_element(\"xpath\", \"/html/body/div[1]/div/div[2]/form/input[1]\")\n",
    "end_date = driver.find_element(\"name\", \"enddate\")\n",
    "\n",
    "# Then we'll fake typing into it\n",
    "beg_date.send_keys(\"06/06/2022\")\n",
    "end_date.send_keys(\"06/10/2022\")"
   ]
  },
  {
   "cell_type": "code",
   "execution_count": null,
   "metadata": {},
   "outputs": [],
   "source": [
    "# Now we can grab the search button and click it\n",
    "search_button = driver.find_element(\"xpath\", \"/html/body/div[1]/div/div[2]/form/input[4]\")\n",
    "search_button.click()"
   ]
  },
  {
   "cell_type": "markdown",
   "metadata": {},
   "source": [
    "## Step 3: Extract a list of eviction case ids "
   ]
  },
  {
   "cell_type": "code",
   "execution_count": null,
   "metadata": {},
   "outputs": [],
   "source": [
    "# 1. show all records on one page by clicking \"Show all records\"\n",
    "all_rows = driver.find_element(\"xpath\", \"/html/body/div[1]/div[3]/button\")\n",
    "all_rows.click()"
   ]
  },
  {
   "cell_type": "markdown",
   "metadata": {},
   "source": [
    "### option 1: create a list of 'links' for all case records. then call helper function on each of them to collect data"
   ]
  },
  {
   "cell_type": "markdown",
   "metadata": {},
   "source": [
    "These are examples of xpath links to each case summary. tr indicates row number in the table: tr[1] refers to to table row 1.\n",
    "td[5] refers to data cell number. td[5] represents a cell for 'Case Summary' column. \n",
    "\n",
    "- `/html/body/div[1]/table[2]/tbody/tr[1]/td[5]/form`\n",
    "\n",
    "- `/html/body/div[1]/table[2]/tbody/tr[2]/td[5]/form`\n"
   ]
  },
  {
   "cell_type": "code",
   "execution_count": null,
   "metadata": {},
   "outputs": [],
   "source": [
    "# create a list of case summary objects for all rows. td[5] specifies to use case summary, not case documents link\n",
    "record_xpath_list = driver.find_elements('xpath', \"//td[5]/form\")"
   ]
  },
  {
   "cell_type": "markdown",
   "metadata": {},
   "source": [
    "### option 2: collect case ids into a list. then use a helper function that will scrape data for each case id"
   ]
  },
  {
   "cell_type": "code",
   "execution_count": null,
   "metadata": {},
   "outputs": [],
   "source": [
    "xpath_case_links = driver.find_elements('xpath', '//*[@id=\"munciv_classlist_table\"]/tbody/tr/td[1]')\n",
    "case_ids_list = [i.text for i in xpath_case_links]  # case ids"
   ]
  },
  {
   "cell_type": "code",
   "execution_count": 238,
   "metadata": {},
   "outputs": [],
   "source": [
    "#time.sleep(5)\n",
    "#driver.close()"
   ]
  },
  {
   "cell_type": "code",
   "execution_count": 237,
   "metadata": {},
   "outputs": [],
   "source": [
    "#driver.quit()"
   ]
  },
  {
   "cell_type": "markdown",
   "metadata": {},
   "source": [
    "Steps:\n",
    "\n",
    "- initiate dict/df for data\n",
    "- itirate through a list of links \n",
    "- scrape data into a df & close tab\n",
    "\n",
    "\n",
    "Can check some of the functions that allow closing current tabs or/and move back and forth between tabs."
   ]
  },
  {
   "cell_type": "markdown",
   "metadata": {},
   "source": [
    "outline the entire progress. synopsys of each step and how it works together. \n",
    "\n",
    "by end of this date "
   ]
  }
 ],
 "metadata": {
  "interpreter": {
   "hash": "aee8b7b246df8f9039afb4144a1f6fd8d2ca17a180786b69acc140d282b71a49"
  },
  "kernelspec": {
   "display_name": "Python 3.10.1 64-bit",
   "name": "python3"
  },
  "language_info": {
   "codemirror_mode": {
    "name": "ipython",
    "version": 3
   },
   "file_extension": ".py",
   "mimetype": "text/x-python",
   "name": "python",
   "nbconvert_exporter": "python",
   "pygments_lexer": "ipython3",
   "version": "3.10.1"
  },
  "orig_nbformat": 4
 },
 "nbformat": 4,
 "nbformat_minor": 2
}
