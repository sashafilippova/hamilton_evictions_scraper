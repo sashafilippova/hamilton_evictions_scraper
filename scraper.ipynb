{
 "cells": [
  {
   "cell_type": "code",
   "execution_count": 70,
   "metadata": {},
   "outputs": [],
   "source": [
    "#imports\n",
    "from selenium import webdriver\n",
    "from selenium.webdriver.common.keys import Keys\n",
    "from selenium.webdriver.support.ui import Select    # for drop-down menus\n",
    "from selenium.webdriver.support.ui import WebDriverWait\n",
    "from bs4 import BeautifulSoup"
   ]
  },
  {
   "cell_type": "code",
   "execution_count": 71,
   "metadata": {},
   "outputs": [
    {
     "name": "stderr",
     "output_type": "stream",
     "text": [
      "/var/folders/dk/pln7xlc14nzbppm5dwwxnl1h0000gn/T/ipykernel_7508/1230685114.py:2: DeprecationWarning: executable_path has been deprecated, please pass in a Service object\n",
      "  driver = webdriver.Chrome(\"/Users/oleksandrafilippova/Downloads/chromedriver\")\n"
     ]
    }
   ],
   "source": [
    "# Initialize a Chrome webdriver\n",
    "driver = webdriver.Chrome(\"/Users/oleksandrafilippova/Downloads/chromedriver\")"
   ]
  },
  {
   "cell_type": "code",
   "execution_count": 72,
   "metadata": {},
   "outputs": [],
   "source": [
    "driver.get(\"https://www.courtclerk.org/records-search/municipal-civil-listing-by-classification/\")"
   ]
  },
  {
   "cell_type": "markdown",
   "metadata": {},
   "source": [
    "### Step 1: Enter a classification code (G-code for evictions)"
   ]
  },
  {
   "cell_type": "code",
   "execution_count": 73,
   "metadata": {},
   "outputs": [],
   "source": [
    "# You'll use selenium.webdriver.support.ui.Select\n",
    "# that we imported above to grab the Seelct element called \n",
    "# t_web_lookup__license_type_name, then select Acupuncturists\n",
    "\n",
    "# We use .find_element_by_name here because we know the name\n",
    "dropdown = Select(driver.find_element(\"xpath\", \"/html/body/div[1]/div/div[2]/form/select\"))\n",
    "dropdown.select_by_value(\"G\")"
   ]
  },
  {
   "cell_type": "markdown",
   "metadata": {},
   "source": [
    "### Step 2: Select a Date Range of 7 days or less."
   ]
  },
  {
   "cell_type": "code",
   "execution_count": 74,
   "metadata": {},
   "outputs": [],
   "source": [
    "# We use .find_element_by_id here because we know the id\n",
    "beg_date = driver.find_element(\"xpath\", \"/html/body/div[1]/div/div[2]/form/input[1]\")\n",
    "end_date = driver.find_element(\"name\", \"enddate\")\n",
    "\n",
    "# Then we'll fake typing into it\n",
    "beg_date.send_keys(\"06/06/2022\")\n",
    "end_date.send_keys(\"06/10/2022\")\n"
   ]
  },
  {
   "cell_type": "code",
   "execution_count": 75,
   "metadata": {},
   "outputs": [],
   "source": [
    "# Now we can grab the search button and click it\n",
    "search_button = driver.find_element(\"xpath\", \"/html/body/div[1]/div/div[2]/form/input[4]\")\n",
    "search_button.click()"
   ]
  },
  {
   "cell_type": "markdown",
   "metadata": {},
   "source": [
    "## On the records page..."
   ]
  }
 ],
 "metadata": {
  "interpreter": {
   "hash": "aee8b7b246df8f9039afb4144a1f6fd8d2ca17a180786b69acc140d282b71a49"
  },
  "kernelspec": {
   "display_name": "Python 3.10.1 64-bit",
   "name": "python3"
  },
  "language_info": {
   "codemirror_mode": {
    "name": "ipython",
    "version": 3
   },
   "file_extension": ".py",
   "mimetype": "text/x-python",
   "name": "python",
   "nbconvert_exporter": "python",
   "pygments_lexer": "ipython3",
   "version": "3.10.1"
  },
  "orig_nbformat": 4
 },
 "nbformat": 4,
 "nbformat_minor": 2
}
